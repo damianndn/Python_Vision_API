{
 "cells": [
  {
   "cell_type": "code",
   "execution_count": 1,
   "id": "66e1f29b",
   "metadata": {},
   "outputs": [
    {
     "name": "stdout",
     "output_type": "stream",
     "text": [
      "<class 'str'>\n"
     ]
    }
   ],
   "source": [
    "import pycurl\n",
    "from io import BytesIO\n",
    "\n",
    "def perform_ntlm_authenticated_request(url, username, password):\n",
    "    buffer = BytesIO()\n",
    "    curl = pycurl.Curl()\n",
    "    curl.setopt(pycurl.URL, url)\n",
    "    curl.setopt(pycurl.USERPWD, f\"{username}:{password}\")\n",
    "    curl.setopt(pycurl.HTTPAUTH, pycurl.HTTPAUTH_NTLM)\n",
    "    curl.setopt(pycurl.WRITEFUNCTION, buffer.write)\n",
    "    \n",
    "    # Disable TLS verification\n",
    "    curl.setopt(pycurl.SSL_VERIFYPEER, False)\n",
    "    curl.setopt(pycurl.SSL_VERIFYHOST, False)\n",
    "    \n",
    "    curl.perform()\n",
    "    curl.close()\n",
    "    body = buffer.getvalue().decode('utf-8')\n",
    "    buffer.close()\n",
    "    return body\n",
    "\n",
    "# Example usage\n",
    "url = 'https://192.168.10.202/pivision/utility/api//v1/folders?FolderId=290'\n",
    "username = 'administrator'\n",
    "password = '77@NguyenQuyDuc'\n",
    "\n",
    "response_body = perform_ntlm_authenticated_request(url, username, password)\n",
    "print(type(response_body))\n"
   ]
  },
  {
   "cell_type": "code",
   "execution_count": 2,
   "id": "480073fa",
   "metadata": {},
   "outputs": [],
   "source": [
    "import json"
   ]
  },
  {
   "cell_type": "code",
   "execution_count": 65,
   "id": "0666bfc0",
   "metadata": {},
   "outputs": [],
   "source": [
    "vision_json = json.loads(response_body)"
   ]
  },
  {
   "cell_type": "code",
   "execution_count": 66,
   "id": "959dd7ff",
   "metadata": {},
   "outputs": [
    {
     "name": "stdout",
     "output_type": "stream",
     "text": [
      "0\n"
     ]
    }
   ],
   "source": [
    "#now that vision_json is a dictionary\n",
    "\n",
    "print (len(vision_json[\"Items\"]))"
   ]
  },
  {
   "cell_type": "code",
   "execution_count": 5,
   "id": "7ffa8c05",
   "metadata": {},
   "outputs": [
    {
     "ename": "NameError",
     "evalue": "name 'vision_json' is not defined",
     "output_type": "error",
     "traceback": [
      "\u001b[1;31m---------------------------------------------------------------------------\u001b[0m",
      "\u001b[1;31mNameError\u001b[0m                                 Traceback (most recent call last)",
      "Cell \u001b[1;32mIn[5], line 2\u001b[0m\n\u001b[0;32m      1\u001b[0m listId \u001b[38;5;241m=\u001b[39m []\n\u001b[1;32m----> 2\u001b[0m \u001b[38;5;28;01mfor\u001b[39;00m Id \u001b[38;5;129;01min\u001b[39;00m \u001b[38;5;28mrange\u001b[39m(\u001b[38;5;28mlen\u001b[39m(vision_json[\u001b[38;5;124m\"\u001b[39m\u001b[38;5;124mItems\u001b[39m\u001b[38;5;124m\"\u001b[39m])):\n\u001b[0;32m      3\u001b[0m     listId\u001b[38;5;241m.\u001b[39mappend(vision_json[\u001b[38;5;124m\"\u001b[39m\u001b[38;5;124mItems\u001b[39m\u001b[38;5;124m\"\u001b[39m][Id][\u001b[38;5;124m\"\u001b[39m\u001b[38;5;124mId\u001b[39m\u001b[38;5;124m\"\u001b[39m])\n\u001b[0;32m      4\u001b[0m \u001b[38;5;28mprint\u001b[39m((listId))\n",
      "\u001b[1;31mNameError\u001b[0m: name 'vision_json' is not defined"
     ]
    }
   ],
   "source": [
    "listId = []\n",
    "for Id in range(len(vision_json[\"Items\"])):\n",
    "    listId.append(vision_json[\"Items\"][Id][\"Id\"])\n",
    "print((listId))"
   ]
  },
  {
   "cell_type": "code",
   "execution_count": 3,
   "id": "11808b93",
   "metadata": {},
   "outputs": [],
   "source": [
    "\n",
    "listFolder = \"\"\n",
    "out=[]\n"
   ]
  },
  {
   "cell_type": "code",
   "execution_count": 5,
   "id": "82000ec7",
   "metadata": {},
   "outputs": [],
   "source": [
    "def findFolders(listFolder,out):\n",
    "    #out = []\n",
    "    #print(\"def was call for listFolder ID = \" + str(listFolder))\n",
    "    out.append(listFolder)\n",
    "    username = \"administrator\"\n",
    "    password = \"77@NguyenQuyDuc\"\n",
    "    #for i in range(len(listFolder)):\n",
    "    url = \"https://192.168.10.202/pivision/utility/api/v1/folders?folderid=\"+str(listFolder)\n",
    "    childfolder_json = json.loads(perform_ntlm_authenticated_request(url,username,password))\n",
    "    for Id in range(len(childfolder_json[\"Items\"])):\n",
    "        #print(\"loop in \"+str(Id))\n",
    "        #out.append(childfolder_json[\"Items\"][Id][\"Id\"])\n",
    "        #print(childfolder_json[\"Items\"][Id][\"Id\"])\n",
    "        if childfolder_json[\"Items\"][Id][\"HasChildren\"] == True:\n",
    "            findFolders(childfolder_json[\"Items\"][Id][\"Id\"],out)\n",
    "    #print(\"done loop in\")\n",
    "    return None"
   ]
  },
  {
   "cell_type": "code",
   "execution_count": 6,
   "id": "c29f77df",
   "metadata": {},
   "outputs": [],
   "source": [
    "findFolders(listFolder,out)"
   ]
  },
  {
   "cell_type": "code",
   "execution_count": 7,
   "id": "887e2d7a",
   "metadata": {},
   "outputs": [
    {
     "name": "stdout",
     "output_type": "stream",
     "text": [
      "['', 50810, 40416, 158, 252, 265, 40426, 40512, 40428, 40429, 375, 40415, 283, 286, 290, 291, 292, 293, 294, 287, 295, 296, 288, 289, 297, 298, 299, 300, 301, 302, 303, 304, 305, 306]\n"
     ]
    }
   ],
   "source": [
    "print(out)"
   ]
  },
  {
   "cell_type": "code",
   "execution_count": 8,
   "id": "2d33f6bc",
   "metadata": {},
   "outputs": [],
   "source": [
    "def findDislays(folderId,display_id):\n",
    "    username = \"administrator\"\n",
    "    password = \"77@NguyenQuyDuc\"\n",
    "    for Id in folderId:\n",
    "        url = f\"https://192.168.10.202/pivision/utility/api/v1/displays?folderid={Id}\"\n",
    "        display_json = json.loads(perform_ntlm_authenticated_request(url,username,password))\n",
    "        for k in range(len(display_json[\"Items\"])):\n",
    "            display_id.append(display_json[\"Items\"][k][\"Id\"])\n",
    "    return None"
   ]
  },
  {
   "cell_type": "code",
   "execution_count": 9,
   "id": "3c964940",
   "metadata": {},
   "outputs": [],
   "source": [
    "display_id = [] \n",
    "allFolders = out\n",
    "all_display_id = findDislays(allFolders,display_id)"
   ]
  },
  {
   "cell_type": "code",
   "execution_count": 23,
   "id": "9df75c47",
   "metadata": {
    "scrolled": false
   },
   "outputs": [
    {
     "name": "stdout",
     "output_type": "stream",
     "text": [
      "[40431, 40407, 40404, 40403, 40434, 40418, 372, 371, 40435, 40436, 40437, 40438, 40439, 40440, 40441, 40442, 40443, 40444, 40445, 40446, 40447, 40448, 40449, 40450, 40451, 40452, 40804, 40453, 40454, 40455, 40456, 40457, 40458, 40459, 40460, 40461, 40462, 40463, 40464, 40465, 40466, 40467, 40468, 40469, 40470, 40471, 40472, 40473, 40474, 40476, 40477, 40478, 40479, 40480, 40481, 40482, 40483, 40484, 40485, 40486, 40487, 40488, 40489, 40490, 40491, 40492, 40493, 40494, 40495, 40496, 40497, 40498, 40499, 40500, 40501, 40502, 40503, 40504, 40505, 40506, 40507, 40508, 40509, 398, 397, 392, 10403, 50812, 50804, 40406, 40405, 50811, 40409, 40410, 40411, 40412, 40620, 360, 364, 379, 273, 377, 384, 274, 380, 275, 378, 383, 280, 50805, 50807, 50806, 50808, 50809, 382, 281, 381, 276, 282, 50813, 278, 279, 277, 30403, 266, 271, 270, 40432, 40513, 40514, 40515, 40516, 40517, 40518, 40519, 40520, 40521, 40522, 40523, 40524, 40525, 40526, 40527, 40528, 40529, 40530, 40531, 40532, 40533, 40534, 40535, 40536, 40537, 40538, 40539, 40540, 40541, 40542, 40543, 40544, 40545, 40546, 40547, 40548, 40549, 40550, 40551, 40552, 40553, 40554, 40555, 40556, 40557, 40558, 40559, 40560, 40561, 40562, 40563, 40564, 40565, 40566, 40567, 40568, 40569, 40570, 40571, 40572, 40573, 40574, 40575, 40576, 40577, 40578, 40579, 40580, 40581, 40582, 40583, 40584, 40585, 40586, 40587, 40588, 40589, 40590, 40591, 40592, 40593, 40594, 40595, 40596, 40597, 40598, 40599, 40600, 40601, 40602, 40603, 40604, 40605, 40606, 40607, 40608, 40623, 40626, 40629, 40632, 40634, 40641, 40644, 40646, 40648, 40650, 40654, 40656, 40663, 40718, 40719, 40720, 40794, 40795, 40796, 40721, 40722, 40723, 40724, 40725, 40726, 40727, 40728, 40729, 40730, 40731, 40732, 40733, 40734, 40735, 40797, 40799, 40800, 40801, 40802, 40803, 40736, 40737, 40738, 40739, 40740, 40741, 40742, 40743, 40744, 40745, 40746, 40747, 40748, 40749, 40750, 40751, 40752, 40753, 40754, 40755, 40756, 40757, 40758, 40759, 40760, 40761, 40762, 40763, 40764, 40765, 40766, 40767, 40768, 40769, 40770, 40771, 40772, 40773, 40774, 40775, 40776, 40777, 40778, 40779, 40780, 40781, 40782, 40783, 40784, 40785, 40786, 40787, 40788, 40790, 40791, 40792, 40793, 40609, 40610, 40611, 40612, 40613, 40622, 40614, 40615, 40616, 40617, 40618, 40619, 40621, 40624, 40625, 40627, 40628, 40630, 40631, 40633, 40635, 40636, 40637, 40638, 40639, 40642, 40640, 40643, 40668, 40657, 40669, 40670, 40671, 40672, 40675, 40676, 40677, 40678, 40673, 40679, 40680, 40681, 40682, 40674, 40658, 40659, 40660, 40661, 40662, 40664, 40665, 40666, 40667, 40645, 40647, 40649, 40651, 40652, 40653, 40655, 40683, 40684, 40685, 40686, 40687, 40688, 40689, 40690, 40691, 40692, 40693, 40694, 40695, 40696, 40697, 40698, 40700, 40699, 40701, 40702, 40703, 40709, 40704, 40705, 40706, 40707, 40708, 40710, 40711, 40712, 40713, 40714, 40715, 40716, 40717, 374, 369, 373, 367, 376, 40422, 40421, 40419, 40417, 40413, 40414, 40420, 40423, 40424, 40425, 285, 311, 309, 308, 284, 310, 366, 307, 313, 314, 315, 316, 320, 317, 318, 328, 324, 327, 326, 325, 319, 321, 323, 322, 330, 329, 331, 361, 362, 354, 358, 357, 346, 347, 348, 332, 333, 334, 335, 343, 336, 337, 356, 355, 339, 342, 340, 341, 344, 345, 353, 350, 351, 349, 352]\n"
     ]
    }
   ],
   "source": [
    "print((display_id))"
   ]
  },
  {
   "cell_type": "raw",
   "id": "117a2c78",
   "metadata": {},
   "source": []
  },
  {
   "cell_type": "code",
   "execution_count": 33,
   "id": "e78157c2",
   "metadata": {},
   "outputs": [
    {
     "name": "stdout",
     "output_type": "stream",
     "text": [
      "40431\n",
      "40407\n",
      "40404\n",
      "40403\n",
      "40434\n",
      "40418\n",
      "372\n",
      "371\n",
      "40435\n",
      "40436\n",
      "40437\n",
      "40438\n",
      "40439\n",
      "40440\n",
      "40441\n",
      "40442\n",
      "40443\n",
      "40444\n",
      "40445\n",
      "40446\n",
      "40447\n",
      "40448\n",
      "40449\n",
      "40450\n",
      "40451\n",
      "40452\n",
      "40804\n",
      "40453\n",
      "40454\n",
      "40455\n",
      "40456\n",
      "40457\n",
      "40458\n",
      "40459\n",
      "40460\n",
      "40461\n",
      "40462\n",
      "40463\n",
      "40464\n",
      "40465\n",
      "40466\n",
      "40467\n",
      "40468\n",
      "40469\n",
      "40470\n",
      "40471\n",
      "40472\n",
      "40473\n",
      "40474\n",
      "40476\n",
      "40477\n",
      "40478\n",
      "40479\n",
      "40480\n",
      "40481\n",
      "40482\n",
      "40483\n",
      "40484\n",
      "40485\n",
      "40486\n",
      "40487\n",
      "40488\n",
      "40489\n",
      "40490\n",
      "40491\n",
      "40492\n",
      "40493\n",
      "40494\n",
      "40495\n",
      "40496\n",
      "40497\n",
      "40498\n",
      "40499\n",
      "40500\n",
      "40501\n",
      "40502\n",
      "40503\n",
      "40504\n",
      "40505\n",
      "40506\n",
      "40507\n",
      "40508\n",
      "40509\n",
      "398\n",
      "397\n",
      "392\n",
      "10403\n",
      "50812\n",
      "50804\n",
      "40406\n",
      "40405\n",
      "50811\n",
      "40409\n",
      "40410\n",
      "40411\n"
     ]
    },
    {
     "ename": "error",
     "evalue": "(56, 'Recv failure: Connection was reset')",
     "output_type": "error",
     "traceback": [
      "\u001b[1;31m---------------------------------------------------------------------------\u001b[0m",
      "\u001b[1;31merror\u001b[0m                                     Traceback (most recent call last)",
      "Cell \u001b[1;32mIn[33], line 7\u001b[0m\n\u001b[0;32m      5\u001b[0m temp_source \u001b[38;5;241m=\u001b[39m []\n\u001b[0;32m      6\u001b[0m url \u001b[38;5;241m=\u001b[39m \u001b[38;5;124mf\u001b[39m\u001b[38;5;124m\"\u001b[39m\u001b[38;5;124mhttps://192.168.10.202/pivision/utility/api//v1/displays/\u001b[39m\u001b[38;5;132;01m{\u001b[39;00mgraphic\u001b[38;5;132;01m}\u001b[39;00m\u001b[38;5;124m/export\u001b[39m\u001b[38;5;124m\"\u001b[39m\n\u001b[1;32m----> 7\u001b[0m display_json \u001b[38;5;241m=\u001b[39m json\u001b[38;5;241m.\u001b[39mloads(perform_ntlm_authenticated_request(url,username,password))\n\u001b[0;32m      8\u001b[0m \u001b[38;5;28;01mfor\u001b[39;00m symbol \u001b[38;5;129;01min\u001b[39;00m \u001b[38;5;28mrange\u001b[39m(\u001b[38;5;28mlen\u001b[39m(display_json[\u001b[38;5;124m\"\u001b[39m\u001b[38;5;124mDisplay\u001b[39m\u001b[38;5;124m\"\u001b[39m][\u001b[38;5;124m\"\u001b[39m\u001b[38;5;124mSymbols\u001b[39m\u001b[38;5;124m\"\u001b[39m])):\n\u001b[0;32m      9\u001b[0m     \u001b[38;5;28;01mif\u001b[39;00m \u001b[38;5;124m\"\u001b[39m\u001b[38;5;124mDataSources\u001b[39m\u001b[38;5;124m\"\u001b[39m \u001b[38;5;129;01min\u001b[39;00m display_json[\u001b[38;5;124m\"\u001b[39m\u001b[38;5;124mDisplay\u001b[39m\u001b[38;5;124m\"\u001b[39m][\u001b[38;5;124m\"\u001b[39m\u001b[38;5;124mSymbols\u001b[39m\u001b[38;5;124m\"\u001b[39m][symbol]:\n\u001b[0;32m     10\u001b[0m         \u001b[38;5;66;03m#print(display_json[\"Display\"][\"Symbols\"][symbol][\"DataSources\"])\u001b[39;00m\n",
      "Cell \u001b[1;32mIn[1], line 16\u001b[0m, in \u001b[0;36mperform_ntlm_authenticated_request\u001b[1;34m(url, username, password)\u001b[0m\n\u001b[0;32m     13\u001b[0m curl\u001b[38;5;241m.\u001b[39msetopt(pycurl\u001b[38;5;241m.\u001b[39mSSL_VERIFYPEER, \u001b[38;5;28;01mFalse\u001b[39;00m)\n\u001b[0;32m     14\u001b[0m curl\u001b[38;5;241m.\u001b[39msetopt(pycurl\u001b[38;5;241m.\u001b[39mSSL_VERIFYHOST, \u001b[38;5;28;01mFalse\u001b[39;00m)\n\u001b[1;32m---> 16\u001b[0m curl\u001b[38;5;241m.\u001b[39mperform()\n\u001b[0;32m     17\u001b[0m curl\u001b[38;5;241m.\u001b[39mclose()\n\u001b[0;32m     18\u001b[0m body \u001b[38;5;241m=\u001b[39m buffer\u001b[38;5;241m.\u001b[39mgetvalue()\u001b[38;5;241m.\u001b[39mdecode(\u001b[38;5;124m'\u001b[39m\u001b[38;5;124mutf-8\u001b[39m\u001b[38;5;124m'\u001b[39m)\n",
      "\u001b[1;31merror\u001b[0m: (56, 'Recv failure: Connection was reset')"
     ]
    }
   ],
   "source": [
    "display_dict={}\n",
    "\n",
    "for graphic in display_id:\n",
    "    print(graphic)\n",
    "    temp_source = []\n",
    "    url = f\"https://192.168.10.202/pivision/utility/api//v1/displays/{graphic}/export\"\n",
    "    display_json = json.loads(perform_ntlm_authenticated_request(url,username,password))\n",
    "    for symbol in range(len(display_json[\"Display\"][\"Symbols\"])):\n",
    "        if \"DataSources\" in display_json[\"Display\"][\"Symbols\"][symbol]:\n",
    "            #print(display_json[\"Display\"][\"Symbols\"][symbol][\"DataSources\"])\n",
    "            temp_source.append(display_json[\"Display\"][\"Symbols\"][symbol][\"DataSources\"])\n",
    "        display_dict[graphic] = temp_source    \n"
   ]
  },
  {
   "cell_type": "code",
   "execution_count": 31,
   "id": "a943939e",
   "metadata": {},
   "outputs": [
    {
     "name": "stdout",
     "output_type": "stream",
     "text": [
      "1\n"
     ]
    }
   ],
   "source": [
    "print(len(display_dict))"
   ]
  },
  {
   "cell_type": "code",
   "execution_count": null,
   "id": "0b14ae4c",
   "metadata": {},
   "outputs": [],
   "source": [
    "inverse = {}\n",
    "for k,v in display_dict.items():\n",
    "    for x in v:\n",
    "        inverse.setdefault(x, []).append(k)"
   ]
  }
 ],
 "metadata": {
  "kernelspec": {
   "display_name": "Python 3 (ipykernel)",
   "language": "python",
   "name": "python3"
  },
  "language_info": {
   "codemirror_mode": {
    "name": "ipython",
    "version": 3
   },
   "file_extension": ".py",
   "mimetype": "text/x-python",
   "name": "python",
   "nbconvert_exporter": "python",
   "pygments_lexer": "ipython3",
   "version": "3.11.5"
  }
 },
 "nbformat": 4,
 "nbformat_minor": 5
}
