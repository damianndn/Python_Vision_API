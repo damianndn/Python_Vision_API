{
 "cells": [
  {
   "cell_type": "code",
   "execution_count": 1,
   "id": "66e1f29b",
   "metadata": {},
   "outputs": [
    {
     "name": "stdout",
     "output_type": "stream",
     "text": [
      "<class 'str'>\n"
     ]
    }
   ],
   "source": [
    "import pycurl\n",
    "from io import BytesIO\n",
    "\n",
    "def perform_ntlm_authenticated_request(url, username, password):\n",
    "    buffer = BytesIO()\n",
    "    curl = pycurl.Curl()\n",
    "    curl.setopt(pycurl.URL, url)\n",
    "    curl.setopt(pycurl.USERPWD, f\"{username}:{password}\")\n",
    "    curl.setopt(pycurl.HTTPAUTH, pycurl.HTTPAUTH_NTLM)\n",
    "    curl.setopt(pycurl.WRITEFUNCTION, buffer.write)\n",
    "    \n",
    "    # Disable TLS verification\n",
    "    curl.setopt(pycurl.SSL_VERIFYPEER, False)\n",
    "    curl.setopt(pycurl.SSL_VERIFYHOST, False)\n",
    "    \n",
    "    curl.perform()\n",
    "    curl.close()\n",
    "    body = buffer.getvalue().decode('utf-8')\n",
    "    buffer.close()\n",
    "    return body\n",
    "\n",
    "# Example usage\n",
    "url = 'https://192.168.10.202/pivision/utility/api//v1/folders?FolderId=290'\n",
    "username = 'administrator'\n",
    "password = '77@NguyenQuyDuc'\n",
    "\n",
    "response_body = perform_ntlm_authenticated_request(url, username, password)\n",
    "print(type(response_body))\n"
   ]
  },
  {
   "cell_type": "code",
   "execution_count": 2,
   "id": "480073fa",
   "metadata": {},
   "outputs": [],
   "source": [
    "import json"
   ]
  },
  {
   "cell_type": "code",
   "execution_count": 65,
   "id": "0666bfc0",
   "metadata": {},
   "outputs": [],
   "source": [
    "vision_json = json.loads(response_body)"
   ]
  },
  {
   "cell_type": "code",
   "execution_count": 66,
   "id": "959dd7ff",
   "metadata": {},
   "outputs": [
    {
     "name": "stdout",
     "output_type": "stream",
     "text": [
      "0\n"
     ]
    }
   ],
   "source": [
    "#now that vision_json is a dictionary\n",
    "\n",
    "print (len(vision_json[\"Items\"]))"
   ]
  },
  {
   "cell_type": "code",
   "execution_count": 5,
   "id": "7ffa8c05",
   "metadata": {},
   "outputs": [
    {
     "ename": "NameError",
     "evalue": "name 'vision_json' is not defined",
     "output_type": "error",
     "traceback": [
      "\u001b[1;31m---------------------------------------------------------------------------\u001b[0m",
      "\u001b[1;31mNameError\u001b[0m                                 Traceback (most recent call last)",
      "Cell \u001b[1;32mIn[5], line 2\u001b[0m\n\u001b[0;32m      1\u001b[0m listId \u001b[38;5;241m=\u001b[39m []\n\u001b[1;32m----> 2\u001b[0m \u001b[38;5;28;01mfor\u001b[39;00m Id \u001b[38;5;129;01min\u001b[39;00m \u001b[38;5;28mrange\u001b[39m(\u001b[38;5;28mlen\u001b[39m(vision_json[\u001b[38;5;124m\"\u001b[39m\u001b[38;5;124mItems\u001b[39m\u001b[38;5;124m\"\u001b[39m])):\n\u001b[0;32m      3\u001b[0m     listId\u001b[38;5;241m.\u001b[39mappend(vision_json[\u001b[38;5;124m\"\u001b[39m\u001b[38;5;124mItems\u001b[39m\u001b[38;5;124m\"\u001b[39m][Id][\u001b[38;5;124m\"\u001b[39m\u001b[38;5;124mId\u001b[39m\u001b[38;5;124m\"\u001b[39m])\n\u001b[0;32m      4\u001b[0m \u001b[38;5;28mprint\u001b[39m((listId))\n",
      "\u001b[1;31mNameError\u001b[0m: name 'vision_json' is not defined"
     ]
    }
   ],
   "source": [
    "listId = []\n",
    "for Id in range(len(vision_json[\"Items\"])):\n",
    "    listId.append(vision_json[\"Items\"][Id][\"Id\"])\n",
    "print((listId))"
   ]
  },
  {
   "cell_type": "code",
   "execution_count": 16,
   "id": "11808b93",
   "metadata": {},
   "outputs": [],
   "source": [
    "\n",
    "listFolder = \"\"\n",
    "out=[]\n"
   ]
  },
  {
   "cell_type": "code",
   "execution_count": 17,
   "id": "82000ec7",
   "metadata": {},
   "outputs": [],
   "source": [
    "def findFolders(listFolder,out):\n",
    "    #out = []\n",
    "    #print(\"def was call for listFolder ID = \" + str(listFolder))\n",
    "    out.append(listFolder)\n",
    "    username = \"administrator\"\n",
    "    password = \"77@NguyenQuyDuc\"\n",
    "    #for i in range(len(listFolder)):\n",
    "    url = \"https://192.168.10.202/pivision/utility/api/v1/folders?folderid=\"+str(listFolder)\n",
    "    childfolder_json = json.loads(perform_ntlm_authenticated_request(url,username,password))\n",
    "    for Id in range(len(childfolder_json[\"Items\"])):\n",
    "        #print(\"loop in \"+str(Id))\n",
    "        #out.append(childfolder_json[\"Items\"][Id][\"Id\"])\n",
    "        #print(childfolder_json[\"Items\"][Id][\"Id\"])\n",
    "        if childfolder_json[\"Items\"][Id][\"HasChildren\"] == True:\n",
    "            findFolders(childfolder_json[\"Items\"][Id][\"Id\"],out)\n",
    "    #print(\"done loop in\")\n",
    "    return None"
   ]
  },
  {
   "cell_type": "code",
   "execution_count": 18,
   "id": "c29f77df",
   "metadata": {},
   "outputs": [],
   "source": [
    "findFolders(listFolder,out)"
   ]
  },
  {
   "cell_type": "code",
   "execution_count": 19,
   "id": "887e2d7a",
   "metadata": {},
   "outputs": [
    {
     "name": "stdout",
     "output_type": "stream",
     "text": [
      "['', 50810, 40416, 158, 252, 265, 40426, 40512, 40428, 40429, 375, 40415, 283, 286, 290, 291, 292, 293, 294, 287, 295, 296, 288, 289, 297, 298, 299, 300, 301, 302, 303, 304, 305, 306]\n"
     ]
    }
   ],
   "source": [
    "print(out)"
   ]
  },
  {
   "cell_type": "code",
   "execution_count": 20,
   "id": "2d33f6bc",
   "metadata": {},
   "outputs": [],
   "source": [
    "def findDislays(folderId,display_id):\n",
    "    username = \"administrator\"\n",
    "    password = \"77@NguyenQuyDuc\"\n",
    "    for Id in folderId:\n",
    "        url = f\"https://192.168.10.202/pivision/utility/api/v1/displays?folderid={Id}\"\n",
    "        display_json = json.loads(perform_ntlm_authenticated_request(url,username,password))\n",
    "        for k in range(len(display_json[\"Items\"])):\n",
    "            display_id.append(display_json[\"Items\"][k][\"Id\"])\n",
    "    return None"
   ]
  },
  {
   "cell_type": "code",
   "execution_count": 21,
   "id": "3c964940",
   "metadata": {},
   "outputs": [],
   "source": [
    "display_id = [] \n",
    "allFolders = out\n",
    "all_display_id = findDislays(allFolders,display_id)"
   ]
  },
  {
   "cell_type": "code",
   "execution_count": 23,
   "id": "9df75c47",
   "metadata": {
    "scrolled": false
   },
   "outputs": [
    {
     "name": "stdout",
     "output_type": "stream",
     "text": [
      "486\n"
     ]
    }
   ],
   "source": [
    "print(len(display_id))"
   ]
  },
  {
   "cell_type": "raw",
   "id": "117a2c78",
   "metadata": {},
   "source": []
  }
 ],
 "metadata": {
  "kernelspec": {
   "display_name": "Python 3 (ipykernel)",
   "language": "python",
   "name": "python3"
  },
  "language_info": {
   "codemirror_mode": {
    "name": "ipython",
    "version": 3
   },
   "file_extension": ".py",
   "mimetype": "text/x-python",
   "name": "python",
   "nbconvert_exporter": "python",
   "pygments_lexer": "ipython3",
   "version": "3.11.5"
  }
 },
 "nbformat": 4,
 "nbformat_minor": 5
}
