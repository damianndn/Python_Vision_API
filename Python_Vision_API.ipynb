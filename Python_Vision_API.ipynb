{
 "cells": [
  {
   "cell_type": "code",
   "execution_count": 4,
   "id": "66e1f29b",
   "metadata": {},
   "outputs": [
    {
     "name": "stdout",
     "output_type": "stream",
     "text": [
      "<class 'str'>\n"
     ]
    }
   ],
   "source": [
    "import pycurl\n",
    "from io import BytesIO\n",
    "\n",
    "def perform_ntlm_authenticated_request(url, username, password):\n",
    "    buffer = BytesIO()\n",
    "    curl = pycurl.Curl()\n",
    "    curl.setopt(pycurl.URL, url)\n",
    "    curl.setopt(pycurl.USERPWD, f\"{username}:{password}\")\n",
    "    curl.setopt(pycurl.HTTPAUTH, pycurl.HTTPAUTH_NTLM)\n",
    "    curl.setopt(pycurl.WRITEFUNCTION, buffer.write)\n",
    "    \n",
    "    # Disable TLS verification\n",
    "    curl.setopt(pycurl.SSL_VERIFYPEER, False)\n",
    "    curl.setopt(pycurl.SSL_VERIFYHOST, False)\n",
    "    \n",
    "    curl.perform()\n",
    "    curl.close()\n",
    "    body = buffer.getvalue().decode('utf-8')\n",
    "    buffer.close()\n",
    "    return body\n",
    "\n",
    "# Example usage\n",
    "url = 'https://192.168.10.202/pivision/utility/api/v1/displays?Count=100'\n",
    "username = 'administrator'\n",
    "password = '77@NguyenQuyDuc'\n",
    "\n",
    "response_body = perform_ntlm_authenticated_request(url, username, password)\n",
    "print(type(response_body))\n"
   ]
  },
  {
   "cell_type": "code",
   "execution_count": 7,
   "id": "523f0fc9",
   "metadata": {},
   "outputs": [],
   "source": [
    "import json"
   ]
  },
  {
   "cell_type": "code",
   "execution_count": 14,
   "id": "47cd1cec",
   "metadata": {},
   "outputs": [],
   "source": [
    "vision_json = json.loads(response_body)"
   ]
  },
  {
   "cell_type": "code",
   "execution_count": 20,
   "id": "890d5116",
   "metadata": {},
   "outputs": [
    {
     "name": "stdout",
     "output_type": "stream",
     "text": [
      "91\n",
      "40407\n"
     ]
    }
   ],
   "source": [
    "#now that vision_json is a dictionary\n",
    "\n",
    "print (len(vision_json[\"Items\"]))\n",
    "print(vision_json[\"Items\"][1][\"Id\"])"
   ]
  },
  {
   "cell_type": "code",
   "execution_count": 24,
   "id": "26205eb2",
   "metadata": {},
   "outputs": [
    {
     "name": "stdout",
     "output_type": "stream",
     "text": [
      "[40431, 40407, 40404, 40403, 40434, 40418, 372, 371, 40435, 40436, 40437, 40438, 40439, 40440, 40441, 40442, 40443, 40444, 40445, 40446, 40447, 40448, 40449, 40450, 40451, 40452, 40804, 40453, 40454, 40455, 40456, 40457, 40458, 40459, 40460, 40461, 40462, 40463, 40464, 40465, 40466, 40467, 40468, 40469, 40470, 40471, 40472, 40473, 40474, 40476, 40477, 40478, 40479, 40480, 40481, 40482, 40483, 40484, 40485, 40486, 40487, 40488, 40489, 40490, 40491, 40492, 40493, 40494, 40495, 40496, 40497, 40498, 40499, 40500, 40501, 40502, 40503, 40504, 40505, 40506, 40507, 40508, 40509, 398, 397, 392, 10403, 50812, 50804, 40406, 40405]\n"
     ]
    }
   ],
   "source": [
    "listId = []\n",
    "for Id in range(len(vision_json[\"Items\"])):\n",
    "    listId.append(vision_json[\"Items\"][Id][\"Id\"])\n",
    "print((listId))"
   ]
  },
  {
   "cell_type": "code",
   "execution_count": 31,
   "id": "a665691d",
   "metadata": {},
   "outputs": [
    {
     "name": "stdout",
     "output_type": "stream",
     "text": [
      "[50810, 40416, 158, 252, 265, 40426, 375, 40415, 283]\n",
      "[True, True, True, True, True, True, True, True, True]\n"
     ]
    }
   ],
   "source": [
    "listIdFolder = []\n",
    "listFolder = []\n",
    "hasChildren = []\n",
    "\n",
    "#finding top layered folders\n",
    "url = \"https://192.168.10.202/pivision/utility/api//v1/folders\"\n",
    "folder_response = perform_ntlm_authenticated_request(url, username, password)\n",
    "folder_json = json.loads(folder_response)\n",
    "for Id in range(len(folder_json[\"Items\"])):\n",
    "    listFolder.append(folder_json[\"Items\"][Id][\"Id\"])\n",
    "    hasChildren.append(folder_json[\"Items\"][Id][\"HasChildren\"])\n",
    "print(listFolder)\n",
    "print(hasChildren)"
   ]
  },
  {
   "cell_type": "code",
   "execution_count": 29,
   "id": "862e0a81",
   "metadata": {},
   "outputs": [
    {
     "name": "stdout",
     "output_type": "stream",
     "text": [
      "4\n"
     ]
    }
   ],
   "source": []
  },
  {
   "cell_type": "code",
   "execution_count": null,
   "id": "12f39c99",
   "metadata": {},
   "outputs": [],
   "source": []
  }
 ],
 "metadata": {
  "kernelspec": {
   "display_name": "Python 3 (ipykernel)",
   "language": "python",
   "name": "python3"
  },
  "language_info": {
   "codemirror_mode": {
    "name": "ipython",
    "version": 3
   },
   "file_extension": ".py",
   "mimetype": "text/x-python",
   "name": "python",
   "nbconvert_exporter": "python",
   "pygments_lexer": "ipython3",
   "version": "3.11.5"
  }
 },
 "nbformat": 4,
 "nbformat_minor": 5
}
