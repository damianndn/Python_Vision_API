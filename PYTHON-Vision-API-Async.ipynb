{
 "cells": [
  {
   "cell_type": "code",
   "execution_count": 2,
   "id": "eb5af2c3",
   "metadata": {},
   "outputs": [],
   "source": [
    "#import necessary libraries\n",
    "import asyncio\n",
    "import aiohttp\n",
    "import pycurl\n",
    "import json\n",
    "from io import BytesIO"
   ]
  },
  {
   "cell_type": "code",
   "execution_count": 3,
   "id": "6a78147c",
   "metadata": {},
   "outputs": [],
   "source": [
    "def perform_ntlm_authenticated_request(url, username, password):\n",
    "    buffer = BytesIO()\n",
    "    curl = pycurl.Curl()\n",
    "    curl.setopt(pycurl.URL, url)\n",
    "    curl.setopt(pycurl.USERPWD, f\"{username}:{password}\")\n",
    "    curl.setopt(pycurl.HTTPAUTH, pycurl.HTTPAUTH_NTLM)\n",
    "    curl.setopt(pycurl.WRITEFUNCTION, buffer.write)\n",
    "    \n",
    "    # Disable TLS verification\n",
    "    curl.setopt(pycurl.SSL_VERIFYPEER, False)\n",
    "    curl.setopt(pycurl.SSL_VERIFYHOST, False)\n",
    "    \n",
    "    curl.perform()\n",
    "    curl.close()\n",
    "    body = buffer.getvalue().decode('utf-8')\n",
    "    buffer.close()\n",
    "    return body\n",
    "\n",
    "def findFolders(listFolder,out):\n",
    "    #out = []\n",
    "    #print(\"def was call for listFolder ID = \" + str(listFolder))\n",
    "    out.append(listFolder)\n",
    "    username = \"administrator\"\n",
    "    password = \"77@NguyenQuyDuc\"\n",
    "    #for i in range(len(listFolder)):\n",
    "    url = \"https://192.168.10.202/pivision/utility/api/v1/folders?folderid=\"+str(listFolder)\n",
    "    childfolder_json = json.loads(perform_ntlm_authenticated_request(url,username,password))\n",
    "    for Id in range(len(childfolder_json[\"Items\"])):\n",
    "        #print(\"loop in \"+str(Id))\n",
    "        #out.append(childfolder_json[\"Items\"][Id][\"Id\"])\n",
    "        #print(childfolder_json[\"Items\"][Id][\"Id\"])\n",
    "        if childfolder_json[\"Items\"][Id][\"HasChildren\"] == True:\n",
    "            findFolders(childfolder_json[\"Items\"][Id][\"Id\"],out)\n",
    "    #print(\"done loop in\")\n",
    "    return None\n",
    "\n",
    "def findDislays(folderId,display_id):\n",
    "    username = \"administrator\"\n",
    "    password = \"77@NguyenQuyDuc\"\n",
    "    for Id in folderId:\n",
    "        url = f\"https://192.168.10.202/pivision/utility/api/v1/displays?folderid={Id}\"\n",
    "        display_json = json.loads(perform_ntlm_authenticated_request(url,username,password))\n",
    "        for k in range(len(display_json[\"Items\"])):\n",
    "            display_id.append(display_json[\"Items\"][k][\"Id\"])\n",
    "    return None"
   ]
  },
  {
   "cell_type": "code",
   "execution_count": 4,
   "id": "3293f723",
   "metadata": {},
   "outputs": [],
   "source": [
    "async def fetch_data(url,username,password,display_dict):        \n",
    "    temp_source = []   \n",
    "    display_json = json.loads(perform_ntlm_authenticated_request(url,username,password))\n",
    "    for symbol in range(len(display_json[\"Display\"][\"Symbols\"])):\n",
    "        if \"DataSources\" in display_json[\"Display\"][\"Symbols\"][symbol]:\n",
    "            #print(display_json[\"Display\"][\"Symbols\"][symbol][\"DataSources\"])\n",
    "            temp_source.append(display_json[\"Display\"][\"Symbols\"][symbol][\"DataSources\"])\n",
    "        display_dict[display_json[\"Display\"][\"Name\"]] = temp_source\n",
    "    return None\n",
    "        \n",
    "async def fetch_all_data(urls,username,password,display_dict):\n",
    "    tasks = [fetch_data(url,username,password,display_dict) for url in urls]\n",
    "    return await asyncio.gather(*tasks)"
   ]
  },
  {
   "cell_type": "code",
   "execution_count": 8,
   "id": "efd0dc6c",
   "metadata": {},
   "outputs": [
    {
     "name": "stdout",
     "output_type": "stream",
     "text": [
      "The dictionary has 1900 entries.\n",
      "--- 252.1023554801941 seconds ---\n"
     ]
    }
   ],
   "source": [
    "import time\n",
    "start_time = time.time()\n",
    "\n",
    "listFolder = \"\"\n",
    "out=[]\n",
    "username = \"administrator\"\n",
    "password = \"77@NguyenQuyDuc\"\n",
    "findFolders(listFolder,out) #not 'out' list has been filled\n",
    "#print(out)\n",
    "\n",
    "display_id = [] \n",
    "allFolders = out\n",
    "findDislays(allFolders,display_id)\n",
    "\n",
    "#this is the total number of displays in PI Vision\n",
    "#print(len(display_id)) \n",
    "\n",
    "display_dict = {}\n",
    "urls = [f\"https://192.168.10.202/pivision/utility/api/v1/displays/{graphic}/export\" for graphic in display_id]\n",
    "await fetch_all_data(urls,username,password,display_dict)\n",
    "\n",
    "inverse = {}\n",
    "for k, v in display_dict.items():\n",
    "    if v != []:\n",
    "        for x in v:\n",
    "            if isinstance(x, list):\n",
    "                for item in x:\n",
    "                    inverse.setdefault(item, []).append(k)\n",
    "            else:\n",
    "                inverse.setdefault(x, []).append(k)\n",
    "                \n",
    "print(\"The dictionary has \" + str(len(inverse)) + \" entries.\")\n",
    "print(\"Exec time lasted --- %s seconds ---\" % (time.time() - start_time))"
   ]
  },
  {
   "cell_type": "code",
   "execution_count": null,
   "id": "6c8b2912",
   "metadata": {},
   "outputs": [],
   "source": [
    "print(inverse)"
   ]
  },
  {
   "cell_type": "code",
   "execution_count": null,
   "id": "85c7a9bd",
   "metadata": {},
   "outputs": [],
   "source": []
  }
 ],
 "metadata": {
  "kernelspec": {
   "display_name": "Python 3 (ipykernel)",
   "language": "python",
   "name": "python3"
  },
  "language_info": {
   "codemirror_mode": {
    "name": "ipython",
    "version": 3
   },
   "file_extension": ".py",
   "mimetype": "text/x-python",
   "name": "python",
   "nbconvert_exporter": "python",
   "pygments_lexer": "ipython3",
   "version": "3.9.5"
  }
 },
 "nbformat": 4,
 "nbformat_minor": 5
}
